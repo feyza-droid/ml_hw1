{
 "cells": [
  {
   "cell_type": "markdown",
   "metadata": {},
   "source": [
    "<font color='red'> TODO: Comment </font>"
   ]
  },
  {
   "cell_type": "code",
   "execution_count": 1,
   "metadata": {},
   "outputs": [],
   "source": [
    "#Feyza EKSEN\n",
    "#504201522\n",
    "#########################\n",
    "import numpy as np\n",
    "import pandas as pd\n",
    "import matplotlib.pyplot as plt\n",
    "import matplotlib\n",
    "import math\n",
    "import random\n",
    "from sklearn.model_selection import KFold\n",
    "import warnings\n",
    "warnings.filterwarnings(\"ignore\")"
   ]
  },
  {
   "cell_type": "code",
   "execution_count": 2,
   "metadata": {},
   "outputs": [],
   "source": [
    "bin_count = 50 #number of bins for histograms\n",
    "seed = 314\n",
    "random.seed(seed)\n",
    "np.random.seed(seed)"
   ]
  },
  {
   "cell_type": "markdown",
   "metadata": {},
   "source": [
    "## Part A: Examine training sets"
   ]
  },
  {
   "cell_type": "markdown",
   "metadata": {},
   "source": [
    "### A.1"
   ]
  },
  {
   "cell_type": "code",
   "execution_count": 3,
   "metadata": {},
   "outputs": [
    {
     "name": "stdout",
     "output_type": "stream",
     "text": [
      "Index(['Unnamed: 0', 'x1', 'x2', 'y'], dtype='object') number of classes: 2\n",
      "df1       Unnamed: 0        x1        x2    y\n",
      "0              0  1.143987  0.339646  0.0\n",
      "1              1  2.284493  1.129224  0.0\n",
      "2              2  1.053601  0.573296  0.0\n",
      "3              3 -0.652288  3.116746  1.0\n",
      "4              4 -0.223255  3.463650  1.0\n",
      "...          ...       ...       ...  ...\n",
      "1595        1595 -1.415131  3.226519  1.0\n",
      "1596        1596  1.645863  1.057249  0.0\n",
      "1597        1597 -1.575476  3.638737  1.0\n",
      "1598        1598  0.790778  0.626050  0.0\n",
      "1599        1599 -0.292451  0.269355  0.0\n",
      "\n",
      "[1600 rows x 4 columns]\n",
      "\n",
      "\n",
      "Index(['Unnamed: 0', 'x1', 'x2', 'y'], dtype='object') number of classes: 2\n",
      "df2       Unnamed: 0        x1        x2    y\n",
      "0              0  1.941228  1.846020  0.0\n",
      "1              1  1.495839  2.698817  0.0\n",
      "2              2  4.330579  4.413520  1.0\n",
      "3              3  2.737539  2.038206  0.0\n",
      "4              4  3.819236  4.541018  1.0\n",
      "...          ...       ...       ...  ...\n",
      "1995        1995  3.916562  3.555358  1.0\n",
      "1996        1996  4.684518  1.947022  1.0\n",
      "1997        1997 -0.986698 -0.584896  0.0\n",
      "1998        1998  1.094826  2.606524  0.0\n",
      "1999        1999  5.344530  2.890084  1.0\n",
      "\n",
      "[2000 rows x 4 columns]\n",
      "\n",
      "\n"
     ]
    }
   ],
   "source": [
    "df1 = pd.read_csv(\"train1.csv\") \n",
    "df2 = pd.read_csv(\"train2.csv\")\n",
    "print(f\"{df1.keys()} number of classes: {df1['y'].nunique()}\\ndf1 {df1}\\n\\n\")\n",
    "print(f\"{df2.keys()} number of classes: {df2['y'].nunique()}\\ndf2 {df2}\\n\\n\")"
   ]
  },
  {
   "cell_type": "markdown",
   "metadata": {},
   "source": [
    "### A.2"
   ]
  },
  {
   "cell_type": "code",
   "execution_count": 4,
   "metadata": {},
   "outputs": [],
   "source": [
    "def calculate_cov_mtrx(n_features, n_samples, values_mtrx):\n",
    "    means_mtrx = np.empty((n_features))\n",
    "    \n",
    "    for x in range(n_features):\n",
    "        means_mtrx[x] = np.mean(values_mtrx[x])\n",
    "\n",
    "    cov_mtrx = np.empty((n_features, n_features))\n",
    "    \n",
    "    for i in range(n_features):\n",
    "        for k in range(n_features):\n",
    "            total_sum = 0.0\n",
    "            for j in range(n_samples):\n",
    "                total_sum += (values_mtrx[i][j] - means_mtrx[i]) * (values_mtrx[k][j] - means_mtrx[k])\n",
    "                \n",
    "            cov_mtrx[i][k] = total_sum / n_samples\n",
    "    return cov_mtrx, means_mtrx"
   ]
  },
  {
   "cell_type": "code",
   "execution_count": 5,
   "metadata": {},
   "outputs": [],
   "source": [
    "def cov_mtrx_class(df, class_number):\n",
    "    df_class = df[df['y']==class_number]\n",
    "    n_samples = len(df_class)\n",
    "\n",
    "    n_features = 2\n",
    "    df_class_x1_values = df_class['x1'].values\n",
    "    df_class_x2_values = df_class['x2'].values\n",
    "    \n",
    "    values_mtrx = np.zeros((n_features, n_samples))\n",
    "    values_mtrx[0] = df_class_x1_values\n",
    "    values_mtrx[1] = df_class_x2_values\n",
    "\n",
    "    cov_mtrx_df_class, means_mtrx_df_class = calculate_cov_mtrx(n_features, n_samples, values_mtrx)\n",
    "    return cov_mtrx_df_class, means_mtrx_df_class"
   ]
  },
  {
   "cell_type": "code",
   "execution_count": 6,
   "metadata": {},
   "outputs": [
    {
     "name": "stdout",
     "output_type": "stream",
     "text": [
      "Dataset 1 Class 0\n",
      "Mean Vector [1.18814556 0.74442316]\n",
      "Covariance Matrix\n",
      "[[ 0.650795   -0.01941708]\n",
      " [-0.01941708  0.36460863]]\n",
      "\n",
      "\n",
      "Dataset 1 Class 1\n",
      "Mean Vector [-1.38466842  3.07103112]\n",
      "Covariance Matrix\n",
      "[[0.41268323 0.01332061]\n",
      " [0.01332061 1.49317904]]\n",
      "\n",
      "\n",
      "Dataset 2 Class 0\n",
      "Mean Vector [1. 1.]\n",
      "Covariance Matrix\n",
      "[[ 1.29822505e+00 -3.20280558e-05]\n",
      " [-3.20280558e-05  1.29917512e+00]]\n",
      "\n",
      "\n",
      "Dataset 2 Class 1\n",
      "Mean Vector [4.5 3. ]\n",
      "Covariance Matrix\n",
      "[[ 8.99078225e-01 -1.96318696e-05]\n",
      " [-1.96318696e-05  8.99121776e-01]]\n",
      "\n",
      "\n"
     ]
    }
   ],
   "source": [
    "### DATASET 1 ###\n",
    "\n",
    "# CLASS 0 \n",
    "cov_mtrx_df1_class0, means_mtrx_df1_class0 = cov_mtrx_class(df1, class_number=0)\n",
    "print(f\"Dataset 1 Class 0\\nMean Vector {means_mtrx_df1_class0}\\nCovariance Matrix\\n{cov_mtrx_df1_class0}\\n\\n\")\n",
    "\n",
    "\n",
    "# CLASS 1\n",
    "cov_mtrx_df1_class1, means_mtrx_df1_class1 = cov_mtrx_class(df1, class_number=1)\n",
    "print(f\"Dataset 1 Class 1\\nMean Vector {means_mtrx_df1_class1}\\nCovariance Matrix\\n{cov_mtrx_df1_class1}\\n\\n\")\n",
    "\n",
    "\n",
    "### DATASET 2 ###\n",
    "\n",
    "# CLASS 0 \n",
    "cov_mtrx_df2_class0, means_mtrx_df2_class0 = cov_mtrx_class(df2, class_number=0)\n",
    "print(f\"Dataset 2 Class 0\\nMean Vector {means_mtrx_df2_class0}\\nCovariance Matrix\\n{cov_mtrx_df2_class0}\\n\\n\")\n",
    "\n",
    "\n",
    "# CLASS 1\n",
    "cov_mtrx_df2_class1, means_mtrx_df2_class1 = cov_mtrx_class(df2, class_number=1)\n",
    "print(f\"Dataset 2 Class 1\\nMean Vector {means_mtrx_df2_class1}\\nCovariance Matrix\\n{cov_mtrx_df2_class1}\\n\\n\")"
   ]
  },
  {
   "cell_type": "code",
   "execution_count": 7,
   "metadata": {},
   "outputs": [],
   "source": [
    "def plot_cov_mtrx(cov_mtrx_data, dataset_number):\n",
    "    feature_names = [\"x1\", \"x2\"]\n",
    "    \n",
    "    fig2, axs2 = plt.subplots(1, 2, figsize=(17,4))\n",
    "    caxs2 = [0,0,0,0]\n",
    "    plt.tight_layout(pad=5.0)\n",
    "    \n",
    "    plot_i = 0\n",
    "    titles = [r\"Dataset \" + str(dataset_number) + \" Class 0\",\n",
    "              r\"Dataset \" + str(dataset_number) + \" Class 1\"\n",
    "             ]\n",
    "    \n",
    "    for plot_i, plot_data in enumerate(cov_mtrx_data):\n",
    "        axs2[plot_i].title.set_text(titles[plot_i])\n",
    "        caxs2[plot_i] = axs2[plot_i].matshow(plot_data, cmap=\"viridis\")\n",
    "        cb = fig2.colorbar(caxs2[plot_i], ax=axs2[plot_i])\n",
    "        \n",
    "        axs2[plot_i].set_xticklabels(feature_names)\n",
    "        axs2[plot_i].set_xticks(range(len(feature_names)))\n",
    "        axs2[plot_i].set_yticklabels(feature_names)\n",
    "        axs2[plot_i].set_yticks(range(len(feature_names)))\n",
    "\n",
    "    plt.show()"
   ]
  },
  {
   "cell_type": "code",
   "execution_count": 8,
   "metadata": {},
   "outputs": [
    {
     "data": {
      "image/png": "[encoded data removed]",
      "text/plain": [
       "<Figure size 1224x288 with 4 Axes>"
      ]
     },
     "metadata": {
      "needs_background": "light"
     },
     "output_type": "display_data"
    }
   ],
   "source": [
    "df1_cov_mtrx_data = [cov_mtrx_df1_class0, cov_mtrx_df1_class1]\n",
    "plot_cov_mtrx(df1_cov_mtrx_data, dataset_number=1)"
   ]
  },
  {
   "cell_type": "code",
   "execution_count": 9,
   "metadata": {},
   "outputs": [
    {
     "data": {
      "image/png": "[encoded data removed]",
      "text/plain": [
       "<Figure size 1224x288 with 4 Axes>"
      ]
     },
     "metadata": {
      "needs_background": "light"
     },
     "output_type": "display_data"
    }
   ],
   "source": [
    "df2_cov_mtrx_data = [cov_mtrx_df2_class0, cov_mtrx_df2_class1]\n",
    "plot_cov_mtrx(df2_cov_mtrx_data, dataset_number=2)"
   ]
  },
  {
   "cell_type": "markdown",
   "metadata": {},
   "source": [
    "<font color='red'> TODO: Interpret  </font>"
   ]
  },
  {
   "cell_type": "markdown",
   "metadata": {},
   "source": [
    "### A.3"
   ]
  },
  {
   "cell_type": "code",
   "execution_count": 10,
   "metadata": {},
   "outputs": [],
   "source": [
    "def get_classes_from_dataset_and_feature(df, feature_name):    \n",
    "    df_class_0 = df[df['y']==0]\n",
    "    df_class_0_values = df_class_0[feature_name].values\n",
    "    \n",
    "    df_class_1 = df[df['y']==1]\n",
    "    df_class_1_values = df_class_1[feature_name].values\n",
    "    \n",
    "    return df_class_0_values, df_class_1_values"
   ]
  },
  {
   "cell_type": "code",
   "execution_count": 11,
   "metadata": {},
   "outputs": [],
   "source": [
    "def plot_overlaid_dist(class_0, class_1, dataset_number, feature_name):\n",
    "    min_0 = np.min(class_0)\n",
    "    min_1 = np.min(class_1)\n",
    "    min_min = min(min_0, min_1)\n",
    "    \n",
    "    max_0 = np.max(class_0)\n",
    "    max_1 = np.max(class_1)\n",
    "    max_max = max(max_0, max_1)\n",
    "    \n",
    "    bins = np.linspace(min_min, max_max, bin_count)\n",
    "    plt.title(f\"Dataset {dataset_number} Feature {feature_name}\")\n",
    "    plt.xlabel(\"Feature Value\")\n",
    "    plt.ylabel(\"Frequency\")\n",
    "    plt.hist(class_0, bins, color = 'r', alpha=.4, label= 'c0')\n",
    "    plt.hist(class_1, bins, color = 'b', alpha=.4, label= 'c1')\n",
    "    plt.legend(loc='upper right')\n",
    "    plt.show()"
   ]
  },
  {
   "cell_type": "code",
   "execution_count": 12,
   "metadata": {},
   "outputs": [
    {
     "data": {
      "image/png": "[encoded data removed]",
      "text/plain": [
       "<Figure size 432x288 with 1 Axes>"
      ]
     },
     "metadata": {
      "needs_background": "light"
     },
     "output_type": "display_data"
    },
    {
     "data": {
      "image/png": "[encoded data removed]",
      "text/plain": [
       "<Figure size 432x288 with 1 Axes>"
      ]
     },
     "metadata": {
      "needs_background": "light"
     },
     "output_type": "display_data"
    },
    {
     "data": {
      "image/png": "[encoded data removed]",
      "text/plain": [
       "<Figure size 432x288 with 1 Axes>"
      ]
     },
     "metadata": {
      "needs_background": "light"
     },
     "output_type": "display_data"
    },
    {
     "data": {
      "image/png": "[encoded data removed]",
      "text/plain": [
       "<Figure size 432x288 with 1 Axes>"
      ]
     },
     "metadata": {
      "needs_background": "light"
     },
     "output_type": "display_data"
    }
   ],
   "source": [
    "### DATASET 1 ###\n",
    "\n",
    "# FEATURE x1\n",
    "df1_x1_class_0, df1_x1_class_1 = get_classes_from_dataset_and_feature(df1, feature_name=\"x1\")\n",
    "plot_overlaid_dist(df1_x1_class_0, df1_x1_class_1, dataset_number=1, feature_name=\"x1\")\n",
    "\n",
    "\n",
    "# FEATURE x2\n",
    "df1_x2_class_0, df1_x2_class_1 = get_classes_from_dataset_and_feature(df1, feature_name=\"x2\")\n",
    "plot_overlaid_dist(df1_x2_class_0, df1_x2_class_1, dataset_number=1, feature_name=\"x2\")\n",
    "\n",
    "\n",
    "### DATASET 2 ###\n",
    "\n",
    "# FEATURE x1\n",
    "df2_x1_class_0, df2_x1_class_1 = get_classes_from_dataset_and_feature(df2, feature_name=\"x1\")\n",
    "plot_overlaid_dist(df2_x1_class_0, df2_x1_class_1, dataset_number=2, feature_name=\"x1\")\n",
    "\n",
    "\n",
    "# FEATURE x2\n",
    "df2_x2_class_0, df2_x2_class_1 = get_classes_from_dataset_and_feature(df2, feature_name=\"x2\")\n",
    "plot_overlaid_dist(df2_x2_class_0, df2_x2_class_1, dataset_number=2, feature_name=\"x2\")"
   ]
  },
  {
   "cell_type": "markdown",
   "metadata": {},
   "source": [
    "<font color='red'> TODO: Interpret  </font>"
   ]
  },
  {
   "cell_type": "markdown",
   "metadata": {},
   "source": [
    "### A.4"
   ]
  },
  {
   "cell_type": "code",
   "execution_count": 13,
   "metadata": {},
   "outputs": [],
   "source": [
    "def plot_scatter(x1_class_0, x2_class_0, x1_class_1, x2_class_1, dataset_number):\n",
    "    plt.title(f\"Dataset {dataset_number}\")\n",
    "    plt.xlabel(\"x1\")\n",
    "    plt.ylabel(\"x2\")\n",
    "    plt.scatter(x1_class_0, x2_class_0, color = 'r', alpha=.4, label= 'c0')\n",
    "    plt.scatter(x1_class_1, x2_class_1, color = 'b', alpha=.4, label= 'c1')\n",
    "    plt.legend(loc='upper right')\n",
    "    plt.show()"
   ]
  },
  {
   "cell_type": "code",
   "execution_count": 14,
   "metadata": {},
   "outputs": [
    {
     "data": {
      "image/png": "[encoded data removed]",
      "text/plain": [
       "<Figure size 432x288 with 1 Axes>"
      ]
     },
     "metadata": {
      "needs_background": "light"
     },
     "output_type": "display_data"
    },
    {
     "data": {
      "image/png": "[encoded data removed]",
      "text/plain": [
       "<Figure size 432x288 with 1 Axes>"
      ]
     },
     "metadata": {
      "needs_background": "light"
     },
     "output_type": "display_data"
    }
   ],
   "source": [
    "### DATASET 1 ###\n",
    "plot_scatter(df1_x1_class_0, df1_x2_class_0, df1_x1_class_1, df1_x2_class_1, dataset_number=1)\n",
    "\n",
    "\n",
    "### DATASET 2 ###\n",
    "plot_scatter(df2_x1_class_0, df2_x2_class_0, df2_x1_class_1, df2_x2_class_1, dataset_number=2)"
   ]
  },
  {
   "cell_type": "markdown",
   "metadata": {},
   "source": [
    "<font color='red'> TODO: Interpret ?  </font>"
   ]
  },
  {
   "cell_type": "markdown",
   "metadata": {},
   "source": [
    "## Part B: Evaluation of Bayes classifier using random single dataset"
   ]
  },
  {
   "cell_type": "markdown",
   "metadata": {},
   "source": [
    "### B.1"
   ]
  },
  {
   "cell_type": "code",
   "execution_count": 15,
   "metadata": {},
   "outputs": [
    {
     "name": "stdout",
     "output_type": "stream",
     "text": [
      "Dataset 1 Class 0\n",
      "Mean Vector [1.18814556 0.74442316]\n",
      "Covariance Matrix\n",
      "[[ 0.650795   -0.01941708]\n",
      " [-0.01941708  0.36460863]]\n",
      "\n",
      "\n",
      "Dataset 1 Class 1\n",
      "Mean Vector [-1.38466842  3.07103112]\n",
      "Covariance Matrix\n",
      "[[0.41268323 0.01332061]\n",
      " [0.01332061 1.49317904]]\n",
      "\n",
      "\n",
      "Dataset 2 Class 0\n",
      "Mean Vector [1. 1.]\n",
      "Covariance Matrix\n",
      "[[ 1.29822505e+00 -3.20280558e-05]\n",
      " [-3.20280558e-05  1.29917512e+00]]\n",
      "\n",
      "\n",
      "Dataset 2 Class 1\n",
      "Mean Vector [4.5 3. ]\n",
      "Covariance Matrix\n",
      "[[ 8.99078225e-01 -1.96318696e-05]\n",
      " [-1.96318696e-05  8.99121776e-01]]\n",
      "\n",
      "\n"
     ]
    }
   ],
   "source": [
    "### DATASET 1 ###\n",
    "\n",
    "# CLASS 0 \n",
    "print(f\"Dataset 1 Class 0\\nMean Vector {means_mtrx_df1_class0}\\nCovariance Matrix\\n{cov_mtrx_df1_class0}\\n\\n\")\n",
    "\n",
    "# CLASS 1\n",
    "print(f\"Dataset 1 Class 1\\nMean Vector {means_mtrx_df1_class1}\\nCovariance Matrix\\n{cov_mtrx_df1_class1}\\n\\n\")\n",
    "\n",
    "### DATASET 2 ###\n",
    "\n",
    "# CLASS 0 \n",
    "print(f\"Dataset 2 Class 0\\nMean Vector {means_mtrx_df2_class0}\\nCovariance Matrix\\n{cov_mtrx_df2_class0}\\n\\n\")\n",
    "\n",
    "# CLASS 1\n",
    "print(f\"Dataset 2 Class 1\\nMean Vector {means_mtrx_df2_class1}\\nCovariance Matrix\\n{cov_mtrx_df2_class1}\\n\\n\")"
   ]
  },
  {
   "cell_type": "markdown",
   "metadata": {},
   "source": [
    "### B.2"
   ]
  },
  {
   "cell_type": "markdown",
   "metadata": {},
   "source": [
    "<font color='red'> TODO: Implement and then compare it with the built in function, Implement Case 1!!!  </font>"
   ]
  },
  {
   "cell_type": "markdown",
   "metadata": {},
   "source": [
    "### Case 1"
   ]
  },
  {
   "cell_type": "markdown",
   "metadata": {},
   "source": [
    "### Case 2"
   ]
  },
  {
   "cell_type": "code",
   "execution_count": 16,
   "metadata": {},
   "outputs": [],
   "source": [
    "def calculate_prior_probs(df):\n",
    "    total = len(df)\n",
    "    \n",
    "    df_class_0 = df[df['y']==0]\n",
    "    p_0 = len(df_class_0) / total\n",
    "    \n",
    "    df_class_1 = df[df['y']==1]\n",
    "    p_1 = len(df_class_1) / total\n",
    "    \n",
    "    return p_0, p_1"
   ]
  },
  {
   "cell_type": "code",
   "execution_count": 17,
   "metadata": {},
   "outputs": [],
   "source": [
    "def train_bayes(mean_mtrx, cov_mtrx, prior_prob, class_number, cov_matrix_equals=False):\n",
    "    if cov_matrix_equals:\n",
    "        pass # TODO:\n",
    "    else: # general case\n",
    "        g_x = np.empty((3, 2, 2))\n",
    "        cov_mtrx_inverse = np.linalg.inv(cov_mtrx) # TODO: if it is not invertible, use pseudo-inverse\n",
    "        \n",
    "        W = -1/2 * cov_mtrx_inverse\n",
    "        w = mean_mtrx * cov_mtrx_inverse\n",
    "        w_0 = -1/2 * mean_mtrx * cov_mtrx_inverse * mean_mtrx - 1/2 * np.log(np.linalg.det(cov_mtrx_inverse)) + np.log(prior_prob)\n",
    "        \n",
    "        g_x[0] = W\n",
    "        g_x[1] = w\n",
    "        g_x[2] = w_0\n",
    "        \n",
    "    return g_x"
   ]
  },
  {
   "cell_type": "code",
   "execution_count": 18,
   "metadata": {},
   "outputs": [],
   "source": [
    "def predict_class(x, discr_func_class0, discr_func_class1):\n",
    "    result_class0 = np.sum(np.matmul(np.matmul(x, discr_func_class0[0]), np.transpose(x)) + np.matmul(discr_func_class0[1], np.transpose(x)) + discr_func_class0[2])\n",
    "    \n",
    "    result_class1 = np.sum(np.matmul(np.matmul(x, discr_func_class1[0]), np.transpose(x)) + np.matmul(discr_func_class1[1], np.transpose(x)) + discr_func_class1[2])\n",
    "    \n",
    "    if result_class0 - result_class1 > pow(10, -3):\n",
    "        predicted_class = 0\n",
    "    else:\n",
    "        predicted_class = 1\n",
    "        \n",
    "    return predicted_class"
   ]
  },
  {
   "cell_type": "code",
   "execution_count": 19,
   "metadata": {},
   "outputs": [],
   "source": [
    "def train_naive_bayes(p0, p1, means_mtrx_class0, means_mtrx_class1, cov_mtrx_class0, cov_mtrx_class1):    \n",
    "    # CLASS 0\n",
    "    g_x_class_0 = train_bayes(means_mtrx_class0, cov_mtrx_class0, p_0, class_number=0, cov_matrix_equals=False)\n",
    "\n",
    "    # CLASS 1\n",
    "    g_x_class_1 = train_bayes(means_mtrx_class1, cov_mtrx_class1, p_1, class_number=1, cov_matrix_equals=False)\n",
    "    \n",
    "    return g_x_class_0, g_x_class_1"
   ]
  },
  {
   "cell_type": "code",
   "execution_count": 20,
   "metadata": {},
   "outputs": [],
   "source": [
    "def calculate_error(x_values, y_values, discr_func_class0, discr_func_class1):\n",
    "    n_samples = x_values.shape[0]\n",
    "    missed = 0\n",
    "\n",
    "    for i in range(n_samples):\n",
    "        x, y = x_values[i], int(y_values[i][0])\n",
    "\n",
    "        pred = predict_class(x, discr_func_class0, discr_func_class1)    \n",
    "\n",
    "        #print(f\"predicted {pred} label {y}\")\n",
    "\n",
    "        if pred != y:\n",
    "            missed += 1\n",
    "    e =  (missed / n_samples) * 100\n",
    "    print(f\"classification error rate {e}\")\n",
    "    \n",
    "    return e"
   ]
  },
  {
   "cell_type": "code",
   "execution_count": 21,
   "metadata": {},
   "outputs": [
    {
     "name": "stdout",
     "output_type": "stream",
     "text": [
      "Prior probabilities of class 0 is 0.5 class 1 is 0.5\n",
      "Discriminant function for class 0\n",
      "[[[-0.76951377 -0.04098013]\n",
      "  [-0.04098013 -1.3735158 ]]\n",
      "\n",
      " [[ 1.82858873  0.06101311]\n",
      "  [ 0.09738071  2.04495393]]\n",
      "\n",
      " [[-2.49950272 -1.43589771]\n",
      "  [-1.47103916 -2.17434346]]]\n",
      "Discriminant function for class 1\n",
      "[[[-1.21193202  0.01081162]\n",
      "  [ 0.01081162 -0.33495248]]\n",
      "\n",
      " [[-3.35624798 -0.06640562]\n",
      "  [ 0.02994101  2.05729896]]\n",
      "\n",
      " [[-3.25902024 -0.83340809]\n",
      "  [-0.91464577 -4.09438951]]]\n"
     ]
    }
   ],
   "source": [
    "### DATASET 1 ###\n",
    "p_0, p_1 = calculate_prior_probs(df1)\n",
    "print(f\"Prior probabilities of class 0 is {p_0} class 1 is {p_1}\")\n",
    "df1_discr_func_class0, df1_discr_func_class1 = train_naive_bayes(p_0, p_1, means_mtrx_df1_class0, means_mtrx_df1_class1, cov_mtrx_df1_class0, cov_mtrx_df1_class1)\n",
    "print(f\"Discriminant function for class 0\\n{df1_discr_func_class0}\\nDiscriminant function for class 1\\n{df1_discr_func_class1}\")"
   ]
  },
  {
   "cell_type": "code",
   "execution_count": 22,
   "metadata": {},
   "outputs": [
    {
     "name": "stdout",
     "output_type": "stream",
     "text": [
      "Prior probabilities of class 0 is 0.5 class 1 is 0.5\n",
      "Discriminant function for class 0\n",
      "[[[-3.85141236e-01 -9.49473612e-06]\n",
      "  [-9.49473612e-06 -3.84859586e-01]]\n",
      "\n",
      " [[ 7.70282472e-01  1.89894722e-05]\n",
      "  [ 1.89894722e-05  7.69719172e-01]]\n",
      "\n",
      " [[-8.16924652e-01 -4.31792911e-01]\n",
      "  [-4.31792911e-01 -8.16643002e-01]]]\n",
      "Discriminant function for class 1\n",
      "[[[-5.56125136e-01 -1.21427113e-05]\n",
      "  [-1.21427113e-05 -5.56098199e-01]]\n",
      "\n",
      " [[ 5.00512622e+00  7.28562680e-05]\n",
      "  [ 1.09284402e-04  3.33658919e+00]]\n",
      "\n",
      " [[-1.20610422e+01 -7.99617481e-01]\n",
      "  [-7.99754086e-01 -5.80439199e+00]]]\n"
     ]
    }
   ],
   "source": [
    "### DATASET 2 ###\n",
    "p_0, p_1 = calculate_prior_probs(df2)\n",
    "print(f\"Prior probabilities of class 0 is {p_0} class 1 is {p_1}\")\n",
    "df2_discr_func_class0, df2_discr_func_class1 = train_naive_bayes(p_0, p_1, means_mtrx_df2_class0, means_mtrx_df2_class1, cov_mtrx_df2_class0, cov_mtrx_df2_class1)\n",
    "print(f\"Discriminant function for class 0\\n{df2_discr_func_class0}\\nDiscriminant function for class 1\\n{df2_discr_func_class1}\")"
   ]
  },
  {
   "cell_type": "markdown",
   "metadata": {},
   "source": [
    "### B.3"
   ]
  },
  {
   "cell_type": "code",
   "execution_count": 23,
   "metadata": {},
   "outputs": [
    {
     "name": "stdout",
     "output_type": "stream",
     "text": [
      "Index(['Unnamed: 0', 'x1', 'x2', 'y'], dtype='object') number of classes: 2\n",
      "df_test1      Unnamed: 0        x1        x2    y\n",
      "0             0  2.018874  1.090158  0.0\n",
      "1             1  2.581723  0.571571  0.0\n",
      "2             2 -1.366544  3.214711  1.0\n",
      "3             3 -1.490753  1.372259  1.0\n",
      "4             4  1.066059  0.363529  0.0\n",
      "..          ...       ...       ...  ...\n",
      "395         395  1.365890  0.173581  0.0\n",
      "396         396  1.132860  0.274295  0.0\n",
      "397         397 -2.210920  3.013634  1.0\n",
      "398         398  1.875043  1.518025  0.0\n",
      "399         399 -2.367107  4.879505  1.0\n",
      "\n",
      "[400 rows x 4 columns]\n",
      "\n",
      "\n",
      "Index(['Unnamed: 0', 'x1', 'x2', 'y'], dtype='object') number of classes: 2\n",
      "df_test2      Unnamed: 0        x1        x2    y\n",
      "0             0  3.472481  3.680828  1.0\n",
      "1             1  6.270101  2.378943  1.0\n",
      "2             2  6.116114  5.097277  1.0\n",
      "3             3  5.232966  5.115128  1.0\n",
      "4             4  3.655956  0.912040  1.0\n",
      "..          ...       ...       ...  ...\n",
      "395         395 -0.478637  1.164457  0.0\n",
      "396         396  5.652354  2.375530  1.0\n",
      "397         397  4.841827  3.260956  1.0\n",
      "398         398  6.149805  3.134701  1.0\n",
      "399         399  2.933962  1.017688  0.0\n",
      "\n",
      "[400 rows x 4 columns]\n",
      "\n",
      "\n"
     ]
    }
   ],
   "source": [
    "df_test1 = pd.read_csv(\"test1.csv\") \n",
    "df_test2 = pd.read_csv(\"test2.csv\")\n",
    "print(f\"{df_test1.keys()} number of classes: {df_test1['y'].nunique()}\\ndf_test1 {df_test1}\\n\\n\")\n",
    "print(f\"{df_test2.keys()} number of classes: {df_test2['y'].nunique()}\\ndf_test2 {df_test2}\\n\\n\")"
   ]
  },
  {
   "cell_type": "code",
   "execution_count": 24,
   "metadata": {},
   "outputs": [
    {
     "name": "stdout",
     "output_type": "stream",
     "text": [
      "classification error rate 6.25\n"
     ]
    }
   ],
   "source": [
    "### TEST DATASET 1 ###\n",
    "df_test1_x_values = df_test1[['x1', 'x2']].values\n",
    "df_test1_y_values = df_test1[['y']].values\n",
    "e_test1 = calculate_error(df_test1_x_values, df_test1_y_values, df1_discr_func_class0, df1_discr_func_class1)"
   ]
  },
  {
   "cell_type": "code",
   "execution_count": 25,
   "metadata": {},
   "outputs": [
    {
     "name": "stdout",
     "output_type": "stream",
     "text": [
      "classification error rate 13.0\n"
     ]
    }
   ],
   "source": [
    "### TEST DATASET 2 ###\n",
    "df_test2_x_values = df_test2[['x1', 'x2']].values\n",
    "df_test2_y_values = df_test2[['y']].values\n",
    "e_test_2 = calculate_error(df_test2_x_values, df_test2_y_values, df2_discr_func_class0, df2_discr_func_class1)"
   ]
  },
  {
   "cell_type": "markdown",
   "metadata": {},
   "source": [
    "## Part C: Evaluation of Bayes classifier using 3-fold cross-validation"
   ]
  },
  {
   "cell_type": "markdown",
   "metadata": {},
   "source": [
    "### C.1"
   ]
  },
  {
   "cell_type": "code",
   "execution_count": 26,
   "metadata": {},
   "outputs": [
    {
     "name": "stdout",
     "output_type": "stream",
     "text": [
      "Index(['Unnamed: 0', 'x1', 'x2', 'y'], dtype='object') number of classes: 2\n",
      "df_all1      Unnamed: 0        x1        x2    y\n",
      "0             0  1.143987  0.339646  0.0\n",
      "1             1  2.284493  1.129224  0.0\n",
      "2             2  1.053601  0.573296  0.0\n",
      "3             3 -0.652288  3.116746  1.0\n",
      "4             4 -0.223255  3.463650  1.0\n",
      "..          ...       ...       ...  ...\n",
      "395         395  1.365890  0.173581  0.0\n",
      "396         396  1.132860  0.274295  0.0\n",
      "397         397 -2.210920  3.013634  1.0\n",
      "398         398  1.875043  1.518025  0.0\n",
      "399         399 -2.367107  4.879505  1.0\n",
      "\n",
      "[2000 rows x 4 columns]\n",
      "\n",
      "\n",
      "Index(['Unnamed: 0', 'x1', 'x2', 'y'], dtype='object') number of classes: 2\n",
      "df_all2      Unnamed: 0        x1        x2    y\n",
      "0             0  1.941228  1.846020  0.0\n",
      "1             1  1.495839  2.698817  0.0\n",
      "2             2  4.330579  4.413520  1.0\n",
      "3             3  2.737539  2.038206  0.0\n",
      "4             4  3.819236  4.541018  1.0\n",
      "..          ...       ...       ...  ...\n",
      "395         395 -0.478637  1.164457  0.0\n",
      "396         396  5.652354  2.375530  1.0\n",
      "397         397  4.841827  3.260956  1.0\n",
      "398         398  6.149805  3.134701  1.0\n",
      "399         399  2.933962  1.017688  0.0\n",
      "\n",
      "[2400 rows x 4 columns]\n",
      "\n",
      "\n"
     ]
    }
   ],
   "source": [
    "df_all1 = pd.concat([df1, df_test1])\n",
    "df_all2 = pd.concat([df2, df_test2])\n",
    "print(f\"{df_all1.keys()} number of classes: {df_all1['y'].nunique()}\\ndf_all1 {df_all1}\\n\\n\")\n",
    "print(f\"{df_all2.keys()} number of classes: {df_all2['y'].nunique()}\\ndf_all2 {df_all2}\\n\\n\")"
   ]
  },
  {
   "cell_type": "markdown",
   "metadata": {},
   "source": [
    "### C.2"
   ]
  },
  {
   "cell_type": "code",
   "execution_count": 27,
   "metadata": {},
   "outputs": [
    {
     "name": "stdout",
     "output_type": "stream",
     "text": [
      "KFold(n_splits=3, random_state=None, shuffle=True)\n",
      "\n"
     ]
    }
   ],
   "source": [
    "k = 3\n",
    "kf = KFold(n_splits=k, shuffle=True)\n",
    "print(f\"{kf}\\n\")\n",
    "\n",
    "df_all1_e_array = np.zeros((k))\n",
    "df_all2_e_array = np.zeros((k))\n",
    "n_features = 2"
   ]
  },
  {
   "cell_type": "code",
   "execution_count": 28,
   "metadata": {},
   "outputs": [
    {
     "name": "stdout",
     "output_type": "stream",
     "text": [
      "Prior probabilities of class 0 is 0.4951237809452363 class 1 is 0.5048762190547637\n",
      "Discriminant function for class 0\n",
      "[[[-0.15392359 -0.04742335]\n",
      "  [-0.04742335 -0.17766073]]\n",
      "\n",
      " [[ 0.30057823  0.08634035]\n",
      "  [ 0.09260715  0.3234544 ]]\n",
      "\n",
      " [[ 0.2996643   0.40710631]\n",
      "  [ 0.40119451  0.29918209]]]\n",
      "Discriminant function for class 1\n",
      "[[[-0.17820046 -0.05543608]\n",
      "  [-0.05543608 -0.17924442]]\n",
      "\n",
      " [[ 0.30721966  0.09621934]\n",
      "  [ 0.09557245  0.3111111 ]]\n",
      "\n",
      " [[ 0.26350421  0.35416526]\n",
      "  [ 0.35472478  0.26091939]]]\n",
      "classification error rate 49.02548725637181\n",
      "\n",
      "\n",
      "Prior probabilities of class 0 is 0.5108777194298575 class 1 is 0.4891222805701425\n",
      "Discriminant function for class 0\n",
      "[[[-0.17325987 -0.05605302]\n",
      "  [-0.05605302 -0.18530149]]\n",
      "\n",
      " [[ 0.32150287  0.10087353]\n",
      "  [ 0.10401258  0.33347028]]\n",
      "\n",
      " [[ 0.2569434   0.36070621]\n",
      "  [ 0.35783773  0.2560604 ]]]\n",
      "Discriminant function for class 1\n",
      "[[[-0.17768982 -0.05161859]\n",
      "  [-0.05161859 -0.17170107]]\n",
      "\n",
      " [[ 0.30697083  0.09195865]\n",
      "  [ 0.0891745   0.30588589]]\n",
      "\n",
      " [[ 0.24968195  0.34130387]\n",
      "  [ 0.34374631  0.24602589]]]\n",
      "classification error rate 14.69265367316342\n",
      "\n",
      "\n",
      "Prior probabilities of class 0 is 0.49400299850074963 class 1 is 0.5059970014992504\n",
      "Discriminant function for class 0\n",
      "[[[-0.15946555  0.04907792]\n",
      "  [ 0.04907792 -0.17589913]]\n",
      "\n",
      " [[ 0.25914749 -0.08861843]\n",
      "  [-0.07975653  0.31761545]]\n",
      "\n",
      " [[ 0.32813122  0.47342024]\n",
      "  [ 0.46581946  0.29003934]]]\n",
      "Discriminant function for class 1\n",
      "[[[-0.16757124  0.06399166]\n",
      "  [ 0.06399166 -0.18479475]]\n",
      "\n",
      " [[ 0.32857506 -0.11012374]\n",
      "  [-0.12547537  0.31801472]]\n",
      "\n",
      " [[ 0.27290737  0.48135373]\n",
      "  [ 0.49548381  0.29715703]]]\n",
      "classification error rate 82.28228228228228\n",
      "\n",
      "\n"
     ]
    }
   ],
   "source": [
    "### COMBINED DATASET 1 ###\n",
    "X = df_all1[['x1', 'x2']].values\n",
    "y = df_all1[['y']].values\n",
    "\n",
    "i = 0\n",
    "for train_index, test_index in kf.split(X):\n",
    "    X_train, X_test = X[train_index], X[test_index]\n",
    "    y_train, y_test = y[train_index], y[test_index]\n",
    "\n",
    "    n_samples = X_train.shape[0]\n",
    "    values_mtrx = X_train.reshape(-1, n_samples)\n",
    "    y_train = y_train.reshape(n_samples)\n",
    "    \n",
    "    y_indices_class0 = np.where(y_train == 0)[0]\n",
    "    values_mtrx_class0 = values_mtrx[..., y_indices_class0]\n",
    "    \n",
    "    y_indices_class1 = np.where(y_train == 1)[0]\n",
    "    values_mtrx_class1 = values_mtrx[..., y_indices_class1]\n",
    "    \n",
    "    n_samples_class0 = values_mtrx_class0.shape[1]\n",
    "    n_samples_class1 = values_mtrx_class1.shape[1]\n",
    "\n",
    "    cov_mtrx_df_class0, means_mtrx_df_class0 = calculate_cov_mtrx(n_features, n_samples_class0, values_mtrx_class0)\n",
    "    cov_mtrx_df_class1, means_mtrx_df_class1 = calculate_cov_mtrx(n_features, n_samples_class1, values_mtrx_class1)\n",
    "    \n",
    "    p_0, p_1 = n_samples_class0/n_samples, n_samples_class1/n_samples\n",
    "    print(f\"Prior probabilities of class 0 is {p_0} class 1 is {p_1}\")\n",
    "    discr_func_class0, discr_func_class1 = train_naive_bayes(p_0, p_1, means_mtrx_df_class0, means_mtrx_df_class1, cov_mtrx_df_class0, cov_mtrx_df_class1)\n",
    "    print(f\"Discriminant function for class 0\\n{discr_func_class0}\\nDiscriminant function for class 1\\n{discr_func_class1}\")\n",
    "    \n",
    "    df_all1_e_array[i] = calculate_error(X_test, y_test, discr_func_class0, discr_func_class1)\n",
    "    \n",
    "    print(\"\\n\")\n",
    "    i += 1"
   ]
  },
  {
   "cell_type": "code",
   "execution_count": 29,
   "metadata": {},
   "outputs": [
    {
     "name": "stdout",
     "output_type": "stream",
     "text": [
      "Prior probabilities of class 0 is 0.504375 class 1 is 0.495625\n",
      "Discriminant function for class 0\n",
      "[[[-0.15893542  0.00940227]\n",
      "  [ 0.00940227 -0.1476783 ]]\n",
      "\n",
      " [[ 0.73509535 -0.04452243]\n",
      "  [-0.04348664  0.69929864]]\n",
      "\n",
      " [[-0.34968349  0.55299907]\n",
      "  [ 0.55057522 -0.32755185]]]\n",
      "Discriminant function for class 1\n",
      "[[[-0.15772481  0.00272819]\n",
      "  [ 0.00272819 -0.15006909]]\n",
      "\n",
      " [[ 0.76540557 -0.0131012 ]\n",
      "  [-0.01323936  0.72065425]]\n",
      "\n",
      " [[-0.45173247  0.49258435]\n",
      "  [ 0.49291783 -0.38831657]]]\n",
      "classification error rate 44.375\n",
      "\n",
      "\n",
      "Prior probabilities of class 0 is 0.5 class 1 is 0.5\n",
      "Discriminant function for class 0\n",
      "[[[-0.15208781  0.00192069]\n",
      "  [ 0.00192069 -0.14993031]]\n",
      "\n",
      " [[ 0.70448727 -0.00930248]\n",
      "  [-0.00889683  0.72615942]]\n",
      "\n",
      " [[-0.3115879   0.51549122]\n",
      "  [ 0.51453028 -0.37502684]]]\n",
      "Discriminant function for class 1\n",
      "[[[-0.1551315   0.00827228]\n",
      "  [ 0.00827228 -0.14243018]]\n",
      "\n",
      " [[ 0.71031232 -0.03972567]\n",
      "  [-0.03787693  0.68398689]]\n",
      "\n",
      " [[-0.29164084  0.56914259]\n",
      "  [ 0.56480683 -0.29972158]]]\n",
      "classification error rate 54.25\n",
      "\n",
      "\n",
      "Prior probabilities of class 0 is 0.495625 class 1 is 0.504375\n",
      "Discriminant function for class 0\n",
      "[[[-0.16203086 -0.00138179]\n",
      "  [-0.00138179 -0.15345155]]\n",
      "\n",
      " [[ 0.74773036  0.00664443]\n",
      "  [ 0.00637661  0.73788143]]\n",
      "\n",
      " [[-0.41052044  0.44413743]\n",
      "  [ 0.44476837 -0.43491233]]]\n",
      "Discriminant function for class 1\n",
      "[[[-0.15589451  0.01394516]\n",
      "  [ 0.01394516 -0.14079212]]\n",
      "\n",
      " [[ 0.75303992 -0.06797655]\n",
      "  [-0.06736136  0.68629971]]\n",
      "\n",
      " [[-0.37298893  0.61922961]\n",
      "  [ 0.617737   -0.29996174]]]\n",
      "classification error rate 50.875\n",
      "\n",
      "\n"
     ]
    }
   ],
   "source": [
    "### COMBINED DATASET 2 ###\n",
    "X = df_all2[['x1', 'x2']].values\n",
    "y = df_all2[['y']].values\n",
    "\n",
    "i = 0\n",
    "for train_index, test_index in kf.split(X):\n",
    "    X_train, X_test = X[train_index], X[test_index]\n",
    "    y_train, y_test = y[train_index], y[test_index]\n",
    "\n",
    "    n_samples = X_train.shape[0]\n",
    "    values_mtrx = X_train.reshape(-1, n_samples)\n",
    "    y_train = y_train.reshape(n_samples)\n",
    "    \n",
    "    y_indices_class0 = np.where(y_train == 0)[0]\n",
    "    values_mtrx_class0 = values_mtrx[..., y_indices_class0]\n",
    "    \n",
    "    y_indices_class1 = np.where(y_train == 1)[0]\n",
    "    values_mtrx_class1 = values_mtrx[..., y_indices_class1]\n",
    "    \n",
    "    n_samples_class0 = values_mtrx_class0.shape[1]\n",
    "    n_samples_class1 = values_mtrx_class1.shape[1]\n",
    "\n",
    "    cov_mtrx_df_class0, means_mtrx_df_class0 = calculate_cov_mtrx(n_features, n_samples_class0, values_mtrx_class0)\n",
    "    cov_mtrx_df_class1, means_mtrx_df_class1 = calculate_cov_mtrx(n_features, n_samples_class1, values_mtrx_class1)\n",
    "    \n",
    "    p_0, p_1 = n_samples_class0/n_samples, n_samples_class1/n_samples\n",
    "    print(f\"Prior probabilities of class 0 is {p_0} class 1 is {p_1}\")\n",
    "    discr_func_class0, discr_func_class1 = train_naive_bayes(p_0, p_1, means_mtrx_df_class0, means_mtrx_df_class1, cov_mtrx_df_class0, cov_mtrx_df_class1)\n",
    "    print(f\"Discriminant function for class 0\\n{discr_func_class0}\\nDiscriminant function for class 1\\n{discr_func_class1}\")\n",
    "    \n",
    "    df_all2_e_array[i] = calculate_error(X_test, y_test, discr_func_class0, discr_func_class1)\n",
    "    \n",
    "    print(\"\\n\")\n",
    "    i += 1"
   ]
  },
  {
   "cell_type": "markdown",
   "metadata": {},
   "source": [
    "### C.3"
   ]
  },
  {
   "cell_type": "code",
   "execution_count": 30,
   "metadata": {},
   "outputs": [
    {
     "name": "stdout",
     "output_type": "stream",
     "text": [
      "Average of classification error rate 3-fold cross validation on combined dataset 1 48.66680773727251\n",
      "Average of classification error rate 3-fold cross validation on combined dataset 2 49.833333333333336\n"
     ]
    }
   ],
   "source": [
    "print(f\"Average of classification error rate 3-fold cross validation on combined dataset 1 {np.mean(df_all1_e_array)}\")\n",
    "print(f\"Average of classification error rate 3-fold cross validation on combined dataset 2 {np.mean(df_all2_e_array)}\")"
   ]
  },
  {
   "cell_type": "markdown",
   "metadata": {},
   "source": [
    "### C.4"
   ]
  },
  {
   "cell_type": "markdown",
   "metadata": {},
   "source": [
    "<font color='red'> TODO: Comment and Interpret  </font>"
   ]
  },
  {
   "cell_type": "markdown",
   "metadata": {},
   "source": [
    "## Part D: Semi-Supervised Learning"
   ]
  },
  {
   "cell_type": "code",
   "execution_count": 31,
   "metadata": {},
   "outputs": [
    {
     "name": "stdout",
     "output_type": "stream",
     "text": [
      "Index(['Unnamed: 0', 'x1', 'x2', 'y'], dtype='object') number of classes: 2\n",
      "df3      Unnamed: 0        x1        x2    y\n",
      "0             0  2.328009 -0.054717  0.0\n",
      "1             1 -0.826687  4.044049  1.0\n",
      "2             2 -1.367783  2.711673  1.0\n",
      "3             3  1.181950  0.929444  0.0\n",
      "4             4 -1.632349  3.952147  1.0\n",
      "..          ...       ...       ...  ...\n",
      "795         795 -1.182370  2.306965  1.0\n",
      "796         796 -1.356024  2.949347  1.0\n",
      "797         797  1.178004  0.776796  0.0\n",
      "798         798 -1.261943  2.137456  1.0\n",
      "799         799 -0.869612  4.461603  1.0\n",
      "\n",
      "[800 rows x 4 columns]\n",
      "\n",
      "\n"
     ]
    }
   ],
   "source": [
    "df3 = pd.read_csv(\"train3.csv\") \n",
    "print(f\"{df3.keys()} number of classes: {df3['y'].nunique()}\\ndf3 {df3}\\n\\n\")"
   ]
  },
  {
   "cell_type": "markdown",
   "metadata": {},
   "source": [
    "### D.1"
   ]
  },
  {
   "cell_type": "code",
   "execution_count": 32,
   "metadata": {},
   "outputs": [
    {
     "data": {
      "image/png": "[encoded data removed]",
      "text/plain": [
       "<Figure size 432x288 with 1 Axes>"
      ]
     },
     "metadata": {
      "needs_background": "light"
     },
     "output_type": "display_data"
    }
   ],
   "source": [
    "### DATASET 3 ###\n",
    "\n",
    "# FEATURE x1\n",
    "df3_x1_class_0, df3_x1_class_1 = get_classes_from_dataset_and_feature(df3, feature_name=\"x1\")\n",
    "\n",
    "# FEATURE x2\n",
    "df3_x2_class_0, df3_x2_class_1 = get_classes_from_dataset_and_feature(df3, feature_name=\"x2\")\n",
    "\n",
    "plot_scatter(df3_x1_class_0, df3_x2_class_0, df3_x1_class_1, df3_x2_class_1, dataset_number=3)"
   ]
  },
  {
   "cell_type": "markdown",
   "metadata": {},
   "source": [
    "### D.2"
   ]
  },
  {
   "cell_type": "code",
   "execution_count": 33,
   "metadata": {},
   "outputs": [],
   "source": [
    "def get_pseudo_labels(x_values, discr_func_class0, discr_func_class1):\n",
    "    n_samples = x_values.shape[0]\n",
    "    pseudo_labels = np.empty(n_samples)\n",
    "    \n",
    "    for i in range(n_samples):\n",
    "        pseudo_labels[i] = predict_class(x_values[i], discr_func_class0, discr_func_class1)    \n",
    "\n",
    "    return pseudo_labels"
   ]
  },
  {
   "cell_type": "code",
   "execution_count": 34,
   "metadata": {},
   "outputs": [
    {
     "name": "stdout",
     "output_type": "stream",
     "text": [
      "Index(['Unnamed: 0', 'x1', 'x2', 'y'], dtype='object') number of classes: 2\n",
      "df1       Unnamed: 0        x1        x2    y\n",
      "0              0  1.143987  0.339646  0.0\n",
      "1              1  2.284493  1.129224  0.0\n",
      "2              2  1.053601  0.573296  0.0\n",
      "3              3 -0.652288  3.116746  1.0\n",
      "4              4 -0.223255  3.463650  1.0\n",
      "...          ...       ...       ...  ...\n",
      "1595        1595 -1.415131  3.226519  1.0\n",
      "1596        1596  1.645863  1.057249  0.0\n",
      "1597        1597 -1.575476  3.638737  1.0\n",
      "1598        1598  0.790778  0.626050  0.0\n",
      "1599        1599 -0.292451  0.269355  0.0\n",
      "\n",
      "[1600 rows x 4 columns]\n",
      "\n",
      "\n",
      "TRAIN WITH DATASET 1\n",
      "\n",
      "Dataset 1 Class 0\n",
      "Mean Vector [1.18814556 0.74442316]\n",
      "Covariance Matrix\n",
      "[[ 0.650795   -0.01941708]\n",
      " [-0.01941708  0.36460863]]\n",
      "\n",
      "\n",
      "Dataset 1 Class 1\n",
      "Mean Vector [-1.38466842  3.07103112]\n",
      "Covariance Matrix\n",
      "[[0.41268323 0.01332061]\n",
      " [0.01332061 1.49317904]]\n",
      "\n",
      "\n",
      "Prior probabilities of class 0 is 0.5 class 1 is 0.5\n",
      "Discriminant function for class 0\n",
      "[[[-0.76951377 -0.04098013]\n",
      "  [-0.04098013 -1.3735158 ]]\n",
      "\n",
      " [[ 1.82858873  0.06101311]\n",
      "  [ 0.09738071  2.04495393]]\n",
      "\n",
      " [[-2.49950272 -1.43589771]\n",
      "  [-1.47103916 -2.17434346]]]\n",
      "Discriminant function for class 1\n",
      "[[[-1.21193202  0.01081162]\n",
      "  [ 0.01081162 -0.33495248]]\n",
      "\n",
      " [[-3.35624798 -0.06640562]\n",
      "  [ 0.02994101  2.05729896]]\n",
      "\n",
      " [[-3.25902024 -0.83340809]\n",
      "  [-0.91464577 -4.09438951]]]\n",
      "\n",
      "\n",
      "TRAIN WITH DATASET 1 and PSEUDO-LABELED DATASET 3\n",
      "\n",
      "Prior probabilities of class 0 is 0.7175 class 1 is 0.7825\n",
      "Discriminant function for class 0\n",
      "[[[-0.16959056  0.0491849 ]\n",
      "  [ 0.0491849  -0.16917593]]\n",
      "\n",
      " [[ 0.2899778  -0.08731804]\n",
      "  [-0.08409978  0.30033832]]\n",
      "\n",
      " [[ 0.67054997  0.83326002]\n",
      "  [ 0.83045598  0.66120826]]]\n",
      "Discriminant function for class 1\n",
      "[[[-0.16561028  0.05070419]\n",
      "  [ 0.05070419 -0.17048181]]\n",
      "\n",
      " [[ 0.31496632 -0.09705901]\n",
      "  [-0.09643189  0.3263398 ]]\n",
      "\n",
      " [[ 0.7431964   0.93939936]\n",
      "  [ 0.93880107  0.73677967]]]\n"
     ]
    }
   ],
   "source": [
    "# TRAIN WITH DATASET 1\n",
    "df1 = pd.read_csv(\"train1.csv\") \n",
    "print(f\"{df1.keys()} number of classes: {df1['y'].nunique()}\\ndf1 {df1}\\n\\n\")\n",
    "\n",
    "print(\"TRAIN WITH DATASET 1\\n\")\n",
    "# CLASS 0 \n",
    "cov_mtrx_df1_class0, means_mtrx_df1_class0 = cov_mtrx_class(df1, class_number=0)\n",
    "print(f\"Dataset 1 Class 0\\nMean Vector {means_mtrx_df1_class0}\\nCovariance Matrix\\n{cov_mtrx_df1_class0}\\n\\n\")\n",
    "\n",
    "# CLASS 1\n",
    "cov_mtrx_df1_class1, means_mtrx_df1_class1 = cov_mtrx_class(df1, class_number=1)\n",
    "print(f\"Dataset 1 Class 1\\nMean Vector {means_mtrx_df1_class1}\\nCovariance Matrix\\n{cov_mtrx_df1_class1}\\n\\n\")\n",
    "\n",
    "p_0, p_1 = calculate_prior_probs(df1)\n",
    "print(f\"Prior probabilities of class 0 is {p_0} class 1 is {p_1}\")\n",
    "df1_discr_func_class0, df1_discr_func_class1 = train_naive_bayes(p_0, p_1, means_mtrx_df1_class0, means_mtrx_df1_class1, cov_mtrx_df1_class0, cov_mtrx_df1_class1)\n",
    "print(f\"Discriminant function for class 0\\n{df1_discr_func_class0}\\nDiscriminant function for class 1\\n{df1_discr_func_class1}\")\n",
    "\n",
    "\n",
    "# TEST WITH DATASET 3\n",
    "df3_x_values = df3[['x1', 'x2']].values\n",
    "pseudo_labels = get_pseudo_labels(df3_x_values, df1_discr_func_class0, df1_discr_func_class1)\n",
    "\n",
    "\n",
    "# TRAIN WITH DATASET 1 and PSEUDO-LABELED DATASET 3\n",
    "print(\"\\n\\nTRAIN WITH DATASET 1 and PSEUDO-LABELED DATASET 3\\n\")\n",
    "X1 = df1[['x1', 'x2']].values\n",
    "y1 = df1[['y']].values\n",
    "\n",
    "n_samples1 = X1.shape[0]\n",
    "X1 = X1.reshape(-1, n_samples1)\n",
    "y1 = y1.reshape(n_samples1)\n",
    "\n",
    "X3 = df3[['x1', 'x2']].values\n",
    "y3 = pseudo_labels\n",
    "\n",
    "n_samples3 = X3.shape[0]\n",
    "X3 = X3.reshape(-1, n_samples3)\n",
    "y3 = y3.reshape(n_samples3)\n",
    "\n",
    "X_all = np.concatenate((X1, X3), axis=1)\n",
    "y_all = np.concatenate((y1, y3), axis=None)\n",
    "\n",
    "y_indices_class0 = np.where(y_all == 0)[0]\n",
    "values_mtrx_class0 = X_all[..., y_indices_class0]\n",
    "\n",
    "y_indices_class1 = np.where(y_all == 1)[0]\n",
    "values_mtrx_class1 = X_all[..., y_indices_class1]\n",
    "\n",
    "n_samples_class0 = values_mtrx_class0.shape[1]\n",
    "n_samples_class1 = values_mtrx_class1.shape[1]\n",
    "\n",
    "cov_mtrx_df_class0, means_mtrx_df_class0 = calculate_cov_mtrx(n_features, n_samples_class0, values_mtrx_class0)\n",
    "cov_mtrx_df_class1, means_mtrx_df_class1 = calculate_cov_mtrx(n_features, n_samples_class1, values_mtrx_class1)\n",
    "\n",
    "p_0, p_1 = n_samples_class0/n_samples, n_samples_class1/n_samples\n",
    "print(f\"Prior probabilities of class 0 is {p_0} class 1 is {p_1}\")\n",
    "discr_func_class0, discr_func_class1 = train_naive_bayes(p_0, p_1, means_mtrx_df_class0, means_mtrx_df_class1, cov_mtrx_df_class0, cov_mtrx_df_class1)\n",
    "print(f\"Discriminant function for class 0\\n{discr_func_class0}\\nDiscriminant function for class 1\\n{discr_func_class1}\")"
   ]
  },
  {
   "cell_type": "markdown",
   "metadata": {},
   "source": [
    "### D.3"
   ]
  },
  {
   "cell_type": "code",
   "execution_count": 35,
   "metadata": {},
   "outputs": [
    {
     "name": "stdout",
     "output_type": "stream",
     "text": [
      "Index(['Unnamed: 0', 'x1', 'x2', 'y'], dtype='object') number of classes: 2\n",
      "df_test1      Unnamed: 0        x1        x2    y\n",
      "0             0  2.018874  1.090158  0.0\n",
      "1             1  2.581723  0.571571  0.0\n",
      "2             2 -1.366544  3.214711  1.0\n",
      "3             3 -1.490753  1.372259  1.0\n",
      "4             4  1.066059  0.363529  0.0\n",
      "..          ...       ...       ...  ...\n",
      "395         395  1.365890  0.173581  0.0\n",
      "396         396  1.132860  0.274295  0.0\n",
      "397         397 -2.210920  3.013634  1.0\n",
      "398         398  1.875043  1.518025  0.0\n",
      "399         399 -2.367107  4.879505  1.0\n",
      "\n",
      "[400 rows x 4 columns]\n",
      "\n",
      "\n",
      "classification error rate 50.0\n"
     ]
    }
   ],
   "source": [
    "df_test1 = pd.read_csv(\"test1.csv\") \n",
    "print(f\"{df_test1.keys()} number of classes: {df_test1['y'].nunique()}\\ndf_test1 {df_test1}\\n\\n\")\n",
    "\n",
    "df_test1_x_values = df_test1[['x1', 'x2']].values\n",
    "df_test1_y_values = df_test1[['y']].values\n",
    "e_test1_on_semi_supervised = calculate_error(df_test1_x_values, df_test1_y_values, discr_func_class0, discr_func_class1)"
   ]
  },
  {
   "cell_type": "markdown",
   "metadata": {},
   "source": [
    "<font color='red'> TODO: Comment and Interpret  </font>"
   ]
  },
  {
   "cell_type": "markdown",
   "metadata": {},
   "source": [
    "## Part E: Bonus"
   ]
  },
  {
   "cell_type": "markdown",
   "metadata": {},
   "source": [
    "<font color='red'> TODO: Bring with an idea and implement it ? </font>"
   ]
  },
  {
   "cell_type": "code",
   "execution_count": 36,
   "metadata": {},
   "outputs": [],
   "source": [
    "# Part B. 2. Case 1 Implement it, change the necessary parts of the calling functions\n",
    "# Covariance matrix pseudo-inverse\n",
    "# Bonus\n",
    "# Write interpretation\n",
    "# Write comments\n",
    "# Control and submits"
   ]
  }
 ],
 "metadata": {
  "kernelspec": {
   "display_name": "Python 3",
   "language": "python",
   "name": "python3"
  },
  "language_info": {
   "codemirror_mode": {
    "name": "ipython",
    "version": 3
   },
   "file_extension": ".py",
   "mimetype": "text/x-python",
   "name": "python",
   "nbconvert_exporter": "python",
   "pygments_lexer": "ipython3",
   "version": "3.8.10"
  }
 },
 "nbformat": 4,
 "nbformat_minor": 4
}
