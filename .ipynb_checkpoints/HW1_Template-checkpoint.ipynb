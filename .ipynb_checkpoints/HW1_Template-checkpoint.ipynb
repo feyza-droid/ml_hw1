{
 "cells": [
  {
   "cell_type": "markdown",
   "metadata": {},
   "source": [
    "<font color='red'> TODO: Comment </font>"
   ]
  },
  {
   "cell_type": "code",
   "execution_count": 1,
   "metadata": {},
   "outputs": [],
   "source": [
    "#Feyza EKSEN\n",
    "#504201522\n",
    "#########################\n",
    "import numpy as np\n",
    "import pandas as pd\n",
    "import matplotlib.pyplot as plt\n",
    "import matplotlib\n",
    "import math\n",
    "import random\n",
    "from sklearn.model_selection import KFold\n",
    "import warnings\n",
    "warnings.filterwarnings(\"ignore\")"
   ]
  },
  {
   "cell_type": "code",
   "execution_count": 2,
   "metadata": {},
   "outputs": [],
   "source": [
    "bin_count = 50 #number of bins for histograms\n",
    "seed = 314\n",
    "random.seed(seed)"
   ]
  },
  {
   "cell_type": "markdown",
   "metadata": {},
   "source": [
    "## Part A: Examine training sets"
   ]
  },
  {
   "cell_type": "markdown",
   "metadata": {},
   "source": [
    "### A.1"
   ]
  },
  {
   "cell_type": "code",
   "execution_count": 3,
   "metadata": {},
   "outputs": [
    {
     "name": "stdout",
     "output_type": "stream",
     "text": [
      "Index(['Unnamed: 0', 'x1', 'x2', 'y'], dtype='object') number of classes: 2\n",
      "df1       Unnamed: 0        x1        x2    y\n",
      "0              0  1.143987  0.339646  0.0\n",
      "1              1  2.284493  1.129224  0.0\n",
      "2              2  1.053601  0.573296  0.0\n",
      "3              3 -0.652288  3.116746  1.0\n",
      "4              4 -0.223255  3.463650  1.0\n",
      "...          ...       ...       ...  ...\n",
      "1595        1595 -1.415131  3.226519  1.0\n",
      "1596        1596  1.645863  1.057249  0.0\n",
      "1597        1597 -1.575476  3.638737  1.0\n",
      "1598        1598  0.790778  0.626050  0.0\n",
      "1599        1599 -0.292451  0.269355  0.0\n",
      "\n",
      "[1600 rows x 4 columns]\n",
      "\n",
      "\n",
      "Index(['Unnamed: 0', 'x1', 'x2', 'y'], dtype='object') number of classes: 2\n",
      "df2       Unnamed: 0        x1        x2    y\n",
      "0              0  1.941228  1.846020  0.0\n",
      "1              1  1.495839  2.698817  0.0\n",
      "2              2  4.330579  4.413520  1.0\n",
      "3              3  2.737539  2.038206  0.0\n",
      "4              4  3.819236  4.541018  1.0\n",
      "...          ...       ...       ...  ...\n",
      "1995        1995  3.916562  3.555358  1.0\n",
      "1996        1996  4.684518  1.947022  1.0\n",
      "1997        1997 -0.986698 -0.584896  0.0\n",
      "1998        1998  1.094826  2.606524  0.0\n",
      "1999        1999  5.344530  2.890084  1.0\n",
      "\n",
      "[2000 rows x 4 columns]\n",
      "\n",
      "\n"
     ]
    }
   ],
   "source": [
    "df1 = pd.read_csv(\"train1.csv\") \n",
    "df2 = pd.read_csv(\"train2.csv\")\n",
    "print(f\"{df1.keys()} number of classes: {df1['y'].nunique()}\\ndf1 {df1}\\n\\n\")\n",
    "print(f\"{df2.keys()} number of classes: {df2['y'].nunique()}\\ndf2 {df2}\\n\\n\")"
   ]
  },
  {
   "cell_type": "markdown",
   "metadata": {},
   "source": [
    "### A.2"
   ]
  },
  {
   "cell_type": "code",
   "execution_count": 4,
   "metadata": {},
   "outputs": [],
   "source": [
    "def calculate_cov_mtrx(n_features, n_samples, values_mtrx):\n",
    "    means_mtrx = np.empty((n_features))\n",
    "    \n",
    "    for x in range(n_features):\n",
    "        means_mtrx[x] = np.mean(values_mtrx[x])\n",
    "\n",
    "    cov_mtrx = np.empty((n_features, n_features))\n",
    "    \n",
    "    for i in range(n_features):\n",
    "        for k in range(n_features):\n",
    "            total_sum = 0.0\n",
    "            for j in range(n_samples):\n",
    "                total_sum += (values_mtrx[i][j] - means_mtrx[i]) * (values_mtrx[k][j] - means_mtrx[k])\n",
    "                \n",
    "            cov_mtrx[i][k] = total_sum / n_samples\n",
    "    return cov_mtrx, means_mtrx"
   ]
  },
  {
   "cell_type": "code",
   "execution_count": 5,
   "metadata": {},
   "outputs": [],
   "source": [
    "def cov_mtrx_class(df, class_number):\n",
    "    df_class = df[df['y']==class_number]\n",
    "    n_samples = len(df_class)\n",
    "\n",
    "    n_features = 2\n",
    "    df_class_x1_values = df_class['x1'].values\n",
    "    df_class_x2_values = df_class['x2'].values\n",
    "    \n",
    "    values_mtrx = np.zeros((n_features, n_samples))\n",
    "    values_mtrx[0] = df_class_x1_values\n",
    "    values_mtrx[1] = df_class_x2_values\n",
    "\n",
    "    cov_mtrx_df_class, means_mtrx_df_class = calculate_cov_mtrx(n_features, n_samples, values_mtrx)\n",
    "    return cov_mtrx_df_class, means_mtrx_df_class"
   ]
  },
  {
   "cell_type": "code",
   "execution_count": 6,
   "metadata": {},
   "outputs": [
    {
     "name": "stdout",
     "output_type": "stream",
     "text": [
      "Dataset 1 Class 0\n",
      "Mean Vector [1.18814556 0.74442316]\n",
      "Covariance Matrix\n",
      "[[ 0.650795   -0.01941708]\n",
      " [-0.01941708  0.36460863]]\n",
      "\n",
      "\n",
      "Dataset 1 Class 1\n",
      "Mean Vector [-1.38466842  3.07103112]\n",
      "Covariance Matrix\n",
      "[[0.41268323 0.01332061]\n",
      " [0.01332061 1.49317904]]\n",
      "\n",
      "\n",
      "Dataset 2 Class 0\n",
      "Mean Vector [1. 1.]\n",
      "Covariance Matrix\n",
      "[[ 1.29822505e+00 -3.20280558e-05]\n",
      " [-3.20280558e-05  1.29917512e+00]]\n",
      "\n",
      "\n",
      "Dataset 2 Class 1\n",
      "Mean Vector [4.5 3. ]\n",
      "Covariance Matrix\n",
      "[[ 8.99078225e-01 -1.96318696e-05]\n",
      " [-1.96318696e-05  8.99121776e-01]]\n",
      "\n",
      "\n"
     ]
    }
   ],
   "source": [
    "### DATASET 1 ###\n",
    "\n",
    "# CLASS 0 \n",
    "cov_mtrx_df1_class0, means_mtrx_df1_class0 = cov_mtrx_class(df1, class_number=0)\n",
    "print(f\"Dataset 1 Class 0\\nMean Vector {means_mtrx_df1_class0}\\nCovariance Matrix\\n{cov_mtrx_df1_class0}\\n\\n\")\n",
    "\n",
    "\n",
    "# CLASS 1\n",
    "cov_mtrx_df1_class1, means_mtrx_df1_class1 = cov_mtrx_class(df1, class_number=1)\n",
    "print(f\"Dataset 1 Class 1\\nMean Vector {means_mtrx_df1_class1}\\nCovariance Matrix\\n{cov_mtrx_df1_class1}\\n\\n\")\n",
    "\n",
    "\n",
    "### DATASET 2 ###\n",
    "\n",
    "# CLASS 0 \n",
    "cov_mtrx_df2_class0, means_mtrx_df2_class0 = cov_mtrx_class(df2, class_number=0)\n",
    "print(f\"Dataset 2 Class 0\\nMean Vector {means_mtrx_df2_class0}\\nCovariance Matrix\\n{cov_mtrx_df2_class0}\\n\\n\")\n",
    "\n",
    "\n",
    "# CLASS 1\n",
    "cov_mtrx_df2_class1, means_mtrx_df2_class1 = cov_mtrx_class(df2, class_number=1)\n",
    "print(f\"Dataset 2 Class 1\\nMean Vector {means_mtrx_df2_class1}\\nCovariance Matrix\\n{cov_mtrx_df2_class1}\\n\\n\")"
   ]
  },
  {
   "cell_type": "code",
   "execution_count": 7,
   "metadata": {},
   "outputs": [],
   "source": [
    "def plot_cov_mtrx(cov_mtrx_data, dataset_number):\n",
    "    feature_names = [\"x1\", \"x2\"]\n",
    "    \n",
    "    fig2, axs2 = plt.subplots(1, 2, figsize=(17,4))\n",
    "    caxs2 = [0,0,0,0]\n",
    "    plt.tight_layout(pad=5.0)\n",
    "    \n",
    "    plot_i = 0\n",
    "    titles = [r\"Dataset \" + str(dataset_number) + \" Class 0\",\n",
    "              r\"Dataset \" + str(dataset_number) + \" Class 1\"\n",
    "             ]\n",
    "    \n",
    "    for plot_i, plot_data in enumerate(cov_mtrx_data):\n",
    "        axs2[plot_i].title.set_text(titles[plot_i])\n",
    "        caxs2[plot_i] = axs2[plot_i].matshow(plot_data, cmap=\"viridis\")\n",
    "        cb = fig2.colorbar(caxs2[plot_i], ax=axs2[plot_i])\n",
    "        \n",
    "        axs2[plot_i].set_xticklabels(feature_names)\n",
    "        axs2[plot_i].set_xticks(range(len(feature_names)))\n",
    "        axs2[plot_i].set_yticklabels(feature_names)\n",
    "        axs2[plot_i].set_yticks(range(len(feature_names)))\n",
    "\n",
    "    plt.show()"
   ]
  },
  {
   "cell_type": "code",
   "execution_count": 8,
   "metadata": {},
   "outputs": [
    {
     "data": {
      "image/png": "[encoded data removed]",
      "text/plain": [
       "<Figure size 1224x288 with 4 Axes>"
      ]
     },
     "metadata": {
      "needs_background": "light"
     },
     "output_type": "display_data"
    }
   ],
   "source": [
    "df1_cov_mtrx_data = [cov_mtrx_df1_class0, cov_mtrx_df1_class1]\n",
    "plot_cov_mtrx(df1_cov_mtrx_data, dataset_number=1)"
   ]
  },
  {
   "cell_type": "code",
   "execution_count": null,
   "metadata": {},
   "outputs": [
    {
     "data": {
      "image/png": "[encoded data removed]",
      "text/plain": [
       "<Figure size 1224x288 with 4 Axes>"
      ]
     },
     "metadata": {
      "needs_background": "light"
     },
     "output_type": "display_data"
    }
   ],
   "source": [
    "df2_cov_mtrx_data = [cov_mtrx_df2_class0, cov_mtrx_df2_class1]\n",
    "plot_cov_mtrx(df2_cov_mtrx_data, dataset_number=2)"
   ]
  },
  {
   "cell_type": "markdown",
   "metadata": {},
   "source": [
    "<font color='red'> TODO: Interpret  </font>"
   ]
  },
  {
   "cell_type": "markdown",
   "metadata": {},
   "source": [
    "### A.3"
   ]
  },
  {
   "cell_type": "code",
   "execution_count": null,
   "metadata": {},
   "outputs": [],
   "source": [
    "def get_classes_from_dataset_and_feature(df, feature_name):    \n",
    "    df_class_0 = df[df['y']==0]\n",
    "    df_class_0_values = df_class_0[feature_name].values\n",
    "    \n",
    "    df_class_1 = df[df['y']==1]\n",
    "    df_class_1_values = df_class_1[feature_name].values\n",
    "    \n",
    "    return df_class_0_values, df_class_1_values"
   ]
  },
  {
   "cell_type": "code",
   "execution_count": null,
   "metadata": {},
   "outputs": [],
   "source": [
    "def plot_overlaid_dist(class_0, class_1, dataset_number, feature_name):\n",
    "    min_0 = np.min(class_0)\n",
    "    min_1 = np.min(class_1)\n",
    "    min_min = min(min_0, min_1)\n",
    "    \n",
    "    max_0 = np.max(class_0)\n",
    "    max_1 = np.max(class_1)\n",
    "    max_max = max(max_0, max_1)\n",
    "    \n",
    "    bins = np.linspace(min_min, max_max, bin_count)\n",
    "    plt.title(f\"Dataset {dataset_number} Feature {feature_name}\")\n",
    "    plt.xlabel(\"Feature Value\")\n",
    "    plt.ylabel(\"Frequency\")\n",
    "    plt.hist(class_0, bins, color = 'r', alpha=.4, label= 'c0')\n",
    "    plt.hist(class_1, bins, color = 'b', alpha=.4, label= 'c1')\n",
    "    plt.legend(loc='upper right')\n",
    "    plt.show()"
   ]
  },
  {
   "cell_type": "code",
   "execution_count": null,
   "metadata": {},
   "outputs": [],
   "source": [
    "### DATASET 1 ###\n",
    "\n",
    "# FEATURE x1\n",
    "df1_x1_class_0, df1_x1_class_1 = get_classes_from_dataset_and_feature(df1, feature_name=\"x1\")\n",
    "plot_overlaid_dist(df1_x1_class_0, df1_x1_class_1, dataset_number=1, feature_name=\"x1\")\n",
    "\n",
    "\n",
    "# FEATURE x2\n",
    "df1_x2_class_0, df1_x2_class_1 = get_classes_from_dataset_and_feature(df1, feature_name=\"x2\")\n",
    "plot_overlaid_dist(df1_x2_class_0, df1_x2_class_1, dataset_number=1, feature_name=\"x2\")\n",
    "\n",
    "\n",
    "### DATASET 2 ###\n",
    "\n",
    "# FEATURE x1\n",
    "df2_x1_class_0, df2_x1_class_1 = get_classes_from_dataset_and_feature(df2, feature_name=\"x1\")\n",
    "plot_overlaid_dist(df2_x1_class_0, df2_x1_class_1, dataset_number=2, feature_name=\"x1\")\n",
    "\n",
    "\n",
    "# FEATURE x2\n",
    "df2_x2_class_0, df2_x2_class_1 = get_classes_from_dataset_and_feature(df2, feature_name=\"x2\")\n",
    "plot_overlaid_dist(df2_x2_class_0, df2_x2_class_1, dataset_number=2, feature_name=\"x2\")"
   ]
  },
  {
   "cell_type": "markdown",
   "metadata": {},
   "source": [
    "<font color='red'> TODO: Interpret  </font>"
   ]
  },
  {
   "cell_type": "markdown",
   "metadata": {},
   "source": [
    "### A.4"
   ]
  },
  {
   "cell_type": "code",
   "execution_count": null,
   "metadata": {},
   "outputs": [],
   "source": [
    "def plot_scatter(x1_class_0, x2_class_0, x1_class_1, x2_class_1, dataset_number):\n",
    "    plt.title(f\"Dataset {dataset_number}\")\n",
    "    plt.xlabel(\"x1\")\n",
    "    plt.ylabel(\"x2\")\n",
    "    plt.scatter(x1_class_0, x2_class_0, color = 'r', alpha=.4, label= 'c0')\n",
    "    plt.scatter(x1_class_1, x2_class_1, color = 'b', alpha=.4, label= 'c1')\n",
    "    plt.legend(loc='upper right')\n",
    "    plt.show()"
   ]
  },
  {
   "cell_type": "code",
   "execution_count": null,
   "metadata": {},
   "outputs": [],
   "source": [
    "### DATASET 1 ###\n",
    "plot_scatter(df1_x1_class_0, df1_x2_class_0, df1_x1_class_1, df1_x2_class_1, dataset_number=1)\n",
    "\n",
    "\n",
    "### DATASET 2 ###\n",
    "plot_scatter(df2_x1_class_0, df2_x2_class_0, df2_x1_class_1, df2_x2_class_1, dataset_number=2)"
   ]
  },
  {
   "cell_type": "markdown",
   "metadata": {},
   "source": [
    "<font color='red'> TODO: Interpret ?  </font>"
   ]
  },
  {
   "cell_type": "markdown",
   "metadata": {},
   "source": [
    "## Part B: Evaluation of Bayes classifier using random single dataset"
   ]
  },
  {
   "cell_type": "markdown",
   "metadata": {},
   "source": [
    "### B.1"
   ]
  },
  {
   "cell_type": "code",
   "execution_count": null,
   "metadata": {},
   "outputs": [],
   "source": [
    "### DATASET 1 ###\n",
    "\n",
    "# CLASS 0 \n",
    "print(f\"Dataset 1 Class 0\\nMean Vector {means_mtrx_df1_class0}\\nCovariance Matrix\\n{cov_mtrx_df1_class0}\\n\\n\")\n",
    "\n",
    "# CLASS 1\n",
    "print(f\"Dataset 1 Class 1\\nMean Vector {means_mtrx_df1_class1}\\nCovariance Matrix\\n{cov_mtrx_df1_class1}\\n\\n\")\n",
    "\n",
    "### DATASET 2 ###\n",
    "\n",
    "# CLASS 0 \n",
    "print(f\"Dataset 2 Class 0\\nMean Vector {means_mtrx_df2_class0}\\nCovariance Matrix\\n{cov_mtrx_df2_class0}\\n\\n\")\n",
    "\n",
    "# CLASS 1\n",
    "print(f\"Dataset 2 Class 1\\nMean Vector {means_mtrx_df2_class1}\\nCovariance Matrix\\n{cov_mtrx_df2_class1}\\n\\n\")"
   ]
  },
  {
   "cell_type": "markdown",
   "metadata": {},
   "source": [
    "### B.2"
   ]
  },
  {
   "cell_type": "markdown",
   "metadata": {},
   "source": [
    "<font color='red'> TODO: Implement and then compare it with the built in function, Implement Case 1!!!  </font>"
   ]
  },
  {
   "cell_type": "markdown",
   "metadata": {},
   "source": [
    "### Case 1"
   ]
  },
  {
   "cell_type": "markdown",
   "metadata": {},
   "source": [
    "### Case 2"
   ]
  },
  {
   "cell_type": "code",
   "execution_count": null,
   "metadata": {},
   "outputs": [],
   "source": [
    "def calculate_prior_probs(df):\n",
    "    total = len(df)\n",
    "    \n",
    "    df_class_0 = df[df['y']==0]\n",
    "    p_0 = len(df_class_0) / total\n",
    "    \n",
    "    df_class_1 = df[df['y']==1]\n",
    "    p_1 = len(df_class_1) / total\n",
    "    \n",
    "    return p_0, p_1"
   ]
  },
  {
   "cell_type": "code",
   "execution_count": null,
   "metadata": {},
   "outputs": [],
   "source": [
    "def train_bayes(mean_mtrx, cov_mtrx, prior_prob, class_number, cov_matrix_equals=False):\n",
    "    if cov_matrix_equals:\n",
    "        pass # TODO:\n",
    "    else: # general case\n",
    "        g_x = np.empty((3, 2, 2))\n",
    "        cov_mtrx_inverse = np.linalg.inv(cov_mtrx)\n",
    "        \n",
    "        W = -1/2 * cov_mtrx_inverse\n",
    "        w = mean_mtrx * cov_mtrx_inverse\n",
    "        w_0 = -1/2 * mean_mtrx * cov_mtrx_inverse * mean_mtrx - 1/2 * np.log(np.linalg.det(cov_mtrx_inverse)) + np.log(prior_prob)\n",
    "        \n",
    "        g_x[0] = W\n",
    "        g_x[1] = w\n",
    "        g_x[2] = w_0\n",
    "        \n",
    "    return g_x"
   ]
  },
  {
   "cell_type": "code",
   "execution_count": null,
   "metadata": {},
   "outputs": [],
   "source": [
    "def predict_class(x, discr_func_class0, discr_func_class1):\n",
    "    result_class0 = np.sum(np.matmul(np.matmul(x, discr_func_class0[0]), np.transpose(x)) + np.matmul(discr_func_class0[1], np.transpose(x)) + discr_func_class0[2])\n",
    "    \n",
    "    result_class1 = np.sum(np.matmul(np.matmul(x, discr_func_class1[0]), np.transpose(x)) + np.matmul(discr_func_class1[1], np.transpose(x)) + discr_func_class1[2])\n",
    "    \n",
    "    if result_class0 - result_class1 > pow(10, -3):\n",
    "        predicted_class = 0\n",
    "    else:\n",
    "        predicted_class = 1\n",
    "        \n",
    "    return predicted_class"
   ]
  },
  {
   "cell_type": "code",
   "execution_count": null,
   "metadata": {},
   "outputs": [],
   "source": [
    "def train_naive_bayes(p0, p1, means_mtrx_class0, means_mtrx_class1, cov_mtrx_class0, cov_mtrx_class1):    \n",
    "    # CLASS 0\n",
    "    g_x_class_0 = train_bayes(means_mtrx_class0, cov_mtrx_class0, p_0, class_number=0, cov_matrix_equals=False)\n",
    "\n",
    "    # CLASS 1\n",
    "    g_x_class_1 = train_bayes(means_mtrx_class1, cov_mtrx_class1, p_1, class_number=1, cov_matrix_equals=False)\n",
    "    \n",
    "    return g_x_class_0, g_x_class_1"
   ]
  },
  {
   "cell_type": "code",
   "execution_count": null,
   "metadata": {},
   "outputs": [],
   "source": [
    "def calculate_error(x_values, y_values, discr_func_class0, discr_func_class1):\n",
    "    n_samples = len(x_values)\n",
    "    missed = 0\n",
    "\n",
    "    for i in range(n_samples):\n",
    "        x, y = x_values[i], int(y_values[i][0])\n",
    "\n",
    "        pred = predict_class(x, discr_func_class0, discr_func_class1)    \n",
    "\n",
    "        #print(f\"predicted {pred} label {y}\")\n",
    "\n",
    "        if pred != y:\n",
    "            missed += 1\n",
    "    e =  (missed / n_samples) * 100\n",
    "    print(f\"classification error rate {e}\")\n",
    "    \n",
    "    return e"
   ]
  },
  {
   "cell_type": "code",
   "execution_count": null,
   "metadata": {},
   "outputs": [],
   "source": [
    "### DATASET 1 ###\n",
    "p_0, p_1 = calculate_prior_probs(df1)\n",
    "print(f\"Prior probabilities of class 0 is {p_0} class 1 is {p_1}\")\n",
    "df1_discr_func_class0, df1_discr_func_class1 = train_naive_bayes(p_0, p_1, means_mtrx_df1_class0, means_mtrx_df1_class1, cov_mtrx_df1_class0, cov_mtrx_df1_class1)\n",
    "print(f\"Discriminant function for class 0\\n{df1_discr_func_class0}\\nDiscriminant function for class 1\\n{df1_discr_func_class1}\")\n",
    "\n",
    "df1_x_values = df1[['x1', 'x2']].values\n",
    "df1_y_values = df1[['y']].values\n",
    "calculate_error(df1_x_values, df1_y_values, df1_discr_func_class0, df1_discr_func_class1)"
   ]
  },
  {
   "cell_type": "code",
   "execution_count": null,
   "metadata": {},
   "outputs": [],
   "source": [
    "### DATASET 2 ###\n",
    "p_0, p_1 = calculate_prior_probs(df2)\n",
    "print(f\"Prior probabilities of class 0 is {p_0} class 1 is {p_1}\")\n",
    "df2_discr_func_class0, df2_discr_func_class1 = train_naive_bayes(p_0, p_1, means_mtrx_df2_class0, means_mtrx_df2_class1, cov_mtrx_df2_class0, cov_mtrx_df2_class1)\n",
    "print(f\"Discriminant function for class 0\\n{df2_discr_func_class0}\\nDiscriminant function for class 1\\n{df2_discr_func_class1}\")\n",
    "\n",
    "df2_x_values = df2[['x1', 'x2']].values\n",
    "df2_y_values = df2[['y']].values\n",
    "calculate_error(df2_x_values, df2_y_values, df2_discr_func_class0, df2_discr_func_class1)"
   ]
  },
  {
   "cell_type": "markdown",
   "metadata": {},
   "source": [
    "### B.3"
   ]
  },
  {
   "cell_type": "code",
   "execution_count": null,
   "metadata": {},
   "outputs": [],
   "source": [
    "df_test1 = pd.read_csv(\"test1.csv\") \n",
    "df_test2 = pd.read_csv(\"test2.csv\")\n",
    "print(f\"{df_test1.keys()} number of classes: {df_test1['y'].nunique()}\\ndf_test1 {df_test1}\\n\\n\")\n",
    "print(f\"{df_test2.keys()} number of classes: {df_test2['y'].nunique()}\\ndf_test2 {df_test2}\\n\\n\")"
   ]
  },
  {
   "cell_type": "code",
   "execution_count": null,
   "metadata": {},
   "outputs": [],
   "source": [
    "### TEST DATASET 1 ###\n",
    "df_test1_x_values = df_test1[['x1', 'x2']].values\n",
    "df_test1_y_values = df_test1[['y']].values\n",
    "calculate_error(df_test1_x_values, df_test1_y_values, df1_discr_func_class0, df1_discr_func_class1)"
   ]
  },
  {
   "cell_type": "code",
   "execution_count": null,
   "metadata": {},
   "outputs": [],
   "source": [
    "### TEST DATASET 2 ###\n",
    "df_test2_x_values = df_test2[['x1', 'x2']].values\n",
    "df_test2_y_values = df_test2[['y']].values\n",
    "calculate_error(df_test2_x_values, df_test2_y_values, df2_discr_func_class0, df2_discr_func_class1)"
   ]
  },
  {
   "cell_type": "markdown",
   "metadata": {},
   "source": [
    "## Part C: Evaluation of Bayes classifier using 3-fold cross-validation"
   ]
  },
  {
   "cell_type": "markdown",
   "metadata": {},
   "source": [
    "### C.1"
   ]
  },
  {
   "cell_type": "code",
   "execution_count": null,
   "metadata": {},
   "outputs": [],
   "source": [
    "df_all1 = pd.concat([df1, df_test1])\n",
    "df_all2 = pd.concat([df2, df_test2])\n",
    "print(f\"{df_all1.keys()} number of classes: {df_all1['y'].nunique()}\\ndf_all1 {df_all1}\\n\\n\")\n",
    "print(f\"{df_all2.keys()} number of classes: {df_all2['y'].nunique()}\\ndf_all2 {df_all2}\\n\\n\")"
   ]
  },
  {
   "cell_type": "markdown",
   "metadata": {},
   "source": [
    "### C.2"
   ]
  },
  {
   "cell_type": "code",
   "execution_count": null,
   "metadata": {},
   "outputs": [],
   "source": [
    "### COMBINED DATASET 1 ###\n",
    "\n",
    "# CLASS 0 \n",
    "cov_mtrx_df_all1_class0, means_mtrx_df_all1_class0 = cov_mtrx_class(df_all1, class_number=0)\n",
    "print(f\"Combined Dataset 1 Class 0\\nMean Vector {means_mtrx_df_all1_class0}\\nCovariance Matrix\\n{cov_mtrx_df_all1_class0}\\n\\n\")\n",
    "\n",
    "\n",
    "# CLASS 1\n",
    "cov_mtrx_df_all1_class1, means_mtrx_df_all1_class1 = cov_mtrx_class(df_all1, class_number=1)\n",
    "print(f\"Combined Dataset 1 Class 1\\nMean Vector {means_mtrx_df_all1_class1}\\nCovariance Matrix\\n{cov_mtrx_df_all1_class1}\\n\\n\")\n",
    "\n",
    "\n",
    "### COMBINED DATASET 2 ###\n",
    "\n",
    "# CLASS 0 \n",
    "cov_mtrx_df_all2_class0, means_mtrx_df_all2_class0 = cov_mtrx_class(df_all2, class_number=0)\n",
    "print(f\"Combined Dataset 2 Class 0\\nMean Vector {means_mtrx_df_all2_class0}\\nCovariance Matrix\\n{cov_mtrx_df_all2_class0}\\n\\n\")\n",
    "\n",
    "\n",
    "# CLASS 1\n",
    "cov_mtrx_df_all2_class1, means_mtrx_df_all2_class1 = cov_mtrx_class(df_all2, class_number=1)\n",
    "print(f\"Combined Dataset 2 Class 1\\nMean Vector {means_mtrx_df_all2_class1}\\nCovariance Matrix\\n{cov_mtrx_df_all2_class1}\\n\\n\")"
   ]
  },
  {
   "cell_type": "code",
   "execution_count": null,
   "metadata": {},
   "outputs": [],
   "source": [
    "### COMBINED DATASET 1 ###\n",
    "p_0, p_1 = calculate_prior_probs(df_all1)\n",
    "print(f\"Prior probabilities of class 0 is {p_0} class 1 is {p_1}\")\n",
    "df_all1_discr_func_class0, df_all1_discr_func_class1 = train_naive_bayes(p_0, p_1, means_mtrx_df_all1_class0, means_mtrx_df_all1_class1, cov_mtrx_df_all1_class0, cov_mtrx_df_all1_class1)\n",
    "print(f\"Discriminant function for class 0\\n{df_all1_discr_func_class0}\\nDiscriminant function for class 1\\n{df_all1_discr_func_class1}\")\n",
    "\n",
    "df_all1_x_values = df_all1[['x1', 'x2']].values\n",
    "df_all1_y_values = df_all1[['y']].values\n",
    "calculate_error(df_all1_x_values, df_all1_y_values, df_all1_discr_func_class0, df_all1_discr_func_class1)"
   ]
  },
  {
   "cell_type": "code",
   "execution_count": null,
   "metadata": {},
   "outputs": [],
   "source": [
    "### COMBINED DATASET 2 ###\n",
    "p_0, p_1 = calculate_prior_probs(df_all2)\n",
    "print(f\"Prior probabilities of class 0 is {p_0} class 1 is {p_1}\")\n",
    "df_all2_discr_func_class0, df_all2_discr_func_class1 = train_naive_bayes(p_0, p_1, means_mtrx_df_all2_class0, means_mtrx_df_all2_class1, cov_mtrx_df_all2_class0, cov_mtrx_df_all2_class1)\n",
    "print(f\"Discriminant function for class 0\\n{df_all2_discr_func_class0}\\nDiscriminant function for class 1\\n{df_all2_discr_func_class1}\")\n",
    "\n",
    "df_all2_x_values = df_all2[['x1', 'x2']].values\n",
    "df_all2_y_values = df_all2[['y']].values\n",
    "calculate_error(df_all2_x_values, df_all2_y_values, df_all2_discr_func_class0, df_all2_discr_func_class1)"
   ]
  },
  {
   "cell_type": "code",
   "execution_count": null,
   "metadata": {},
   "outputs": [],
   "source": [
    "### COMBINED DATASET 1 ###\n",
    "n_features = 2\n",
    "\n",
    "X = df_all1[['x1', 'x2']].values\n",
    "y = df_all1[['y']].values\n",
    "\n",
    "kf = KFold(n_splits=3)\n",
    "print(f\"{kf}\\n\")\n",
    "for train_index, test_index in kf.split(X):\n",
    "    #print(\"TRAIN:\", train_index, \"TEST:\", test_index)\n",
    "    X_train, X_test = X[train_index], X[test_index]\n",
    "    y_train, y_test = y[train_index], y[test_index]\n",
    "\n",
    "    n_samples = X_train.shape[0]\n",
    "    values_mtrx_class0 = X_train.reshape(-1, n_samples)\n",
    "    \n",
    "    values_mtrx_class1 = values_mtrx_class0 # TODO: do this for class0 and class1 separately\n",
    "\n",
    "    cov_mtrx_df_class0, means_mtrx_df_class0 = calculate_cov_mtrx(n_features, n_samples, values_mtrx_class0)\n",
    "    \n",
    "    cov_mtrx_df_class1, means_mtrx_df_class1 = calculate_cov_mtrx(n_features, n_samples, values_mtrx_class1)\n",
    "    \n",
    "    p_0, p_1 = 0.5, 0.5 # TODO: calculate_prior_probs(df_all2)\n",
    "    print(f\"Prior probabilities of class 0 is {p_0} class 1 is {p_1}\")\n",
    "    discr_func_class0, discr_func_class1 = train_naive_bayes(p_0, p_1, means_mtrx_df_class0, means_mtrx_df_class1, cov_mtrx_df_class0, cov_mtrx_df_class1)\n",
    "    print(f\"Discriminant function for class 0\\n{discr_func_class0}\\nDiscriminant function for class 1\\n{discr_func_class1}\")\n",
    "    \n",
    "    e1 = calculate_error(X_test, y_test, discr_func_class0, discr_func_class1)\n",
    "    \n",
    "    print(\"\\n\")"
   ]
  },
  {
   "cell_type": "markdown",
   "metadata": {},
   "source": [
    "### C.3"
   ]
  },
  {
   "cell_type": "markdown",
   "metadata": {},
   "source": [
    "### C.4"
   ]
  }
 ],
 "metadata": {
  "kernelspec": {
   "display_name": "Python 3",
   "language": "python",
   "name": "python3"
  },
  "language_info": {
   "codemirror_mode": {
    "name": "ipython",
    "version": 3
   },
   "file_extension": ".py",
   "mimetype": "text/x-python",
   "name": "python",
   "nbconvert_exporter": "python",
   "pygments_lexer": "ipython3",
   "version": "3.8.10"
  }
 },
 "nbformat": 4,
 "nbformat_minor": 4
}
